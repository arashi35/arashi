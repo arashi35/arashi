{
 "cells": [
  {
   "cell_type": "markdown",
   "metadata": {},
   "source": [
    "## Vectors\n",
    "\n",
    "By default, column vectors are used for this discussion.\n",
    "\n",
    "### Dot product\n",
    "\n",
    "The analogy of the [dot product](https://en.wikipedia.org/wiki/Dot_product) is one vector's \n",
    "projection times the other vector:\n",
    "\n",
    "\n",
    "$$\\vec{a} \\cdot \\vec{b} = \\left \\| \\vec{a} \\right \\|\\left \\| \\vec{b} \\right \\| \\cos{\\theta }$$\n",
    "\n",
    "### Cross product\n",
    "\n",
    "## Matrix Multiplication\n",
    "\n",
    "> **AB** = **C**\n",
    "\n",
    " For two matrices, **A** and **B**, if A is of size *n* × *m* and B is of size\n",
    " *m* × *p*, then **A** × **B** is valid and will yield a new matrix of size *n* × *p*. \n",
    " [^1]\n",
    " \n",
    "### Relation to dot product\n",
    "\n",
    "For two column vectors, the dot product of these vectors is the matrix product\n",
    "\n",
    "<mid> x<sup>T</sup>y </mid>\n",
    "\n",
    "### Dot product and \n",
    "\n",
    "## Determinant\n",
    "\n",
    "Think of the determinant as the area of a 2D matrix, or the volume of a 3D matrix, etc. The area of anything in the \n",
    "2D/3D sapce after the transformation \n",
    "\n",
    "\n",
    "***\n",
    "\n",
    "## Reference\n",
    "\n",
    "[^1] https://en.wikipedia.org/wiki/Matrix_multiplication"
   ]
  }
 ],
 "metadata": {
  "kernelspec": {
   "display_name": "Python 3",
   "language": "python",
   "name": "python3"
  },
  "language_info": {
   "codemirror_mode": {
    "name": "ipython",
    "version": 3
   },
   "file_extension": ".py",
   "mimetype": "text/x-python",
   "name": "python",
   "nbconvert_exporter": "python",
   "pygments_lexer": "ipython3",
   "version": "3.7.3"
  }
 },
 "nbformat": 4,
 "nbformat_minor": 2
}
